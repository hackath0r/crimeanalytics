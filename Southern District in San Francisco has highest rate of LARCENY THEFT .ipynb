{
 "cells": [
  {
   "cell_type": "markdown",
   "metadata": {},
   "source": [
    "Southern PdDistrict of San Francisco has the highest rate of LARCENY/THEFT\n",
    "-------------------------------------------------------------------------------------"
   ]
  },
  {
   "cell_type": "markdown",
   "metadata": {},
   "source": [
    "The following analysis is done on San Francisco crime data. Google Fusion Table has been used to analyse which district of San Francisco is most affected by LARCENY/THEFT. Jupyter has been used to create this notebook. \n",
    "\n"
   ]
  },
  {
   "cell_type": "markdown",
   "metadata": {},
   "source": [
    "For analysis two visualizations, bar and pi charts, are used here. \n"
   ]
  },
  {
   "cell_type": "markdown",
   "metadata": {},
   "source": [
    "Following Bar chart shows the number of LARCENY/THEFT in different districts of San Francisco. It is clear from\n",
    "below chart that Southern disctrict is most affected by LARCENY/THEFT standing at count of about 6000 incidence of the crime. "
   ]
  },
  {
   "cell_type": "markdown",
   "metadata": {},
   "source": [
    "![Bar Chart of Larceny/Theft](https://raw.githubusercontent.com/prhacker/crimeanalytics/master/Larceny-theft%20bar.png \"Bar Chart Of Larceny/Theft\")"
   ]
  },
  {
   "cell_type": "markdown",
   "metadata": {},
   "source": [
    "Following pi chart shows the percentage of LARCENY/THEFT in different districts of San Francisco. Southern district stands at 27.1% LARCENY/THEFT."
   ]
  },
  {
   "cell_type": "markdown",
   "metadata": {},
   "source": [
    "![Pi Chart of Larceny/Theft](https://raw.githubusercontent.com/prhacker/crimeanalytics/master/Larceny-Theft%20pi.png \"Pi Chart of Larceny/Theft\")"
   ]
  },
  {
   "cell_type": "markdown",
   "metadata": {},
   "source": [
    "From above analysis It can be conluded that Southern disctrict is most affect by LARCENY/THEFT in San Francisco."
   ]
  }
 ],
 "metadata": {
  "kernelspec": {
   "display_name": "Python 3",
   "language": "python",
   "name": "python3"
  },
  "language_info": {
   "codemirror_mode": {
    "name": "ipython",
    "version": 3
   },
   "file_extension": ".py",
   "mimetype": "text/x-python",
   "name": "python",
   "nbconvert_exporter": "python",
   "pygments_lexer": "ipython3",
   "version": "3.4.3"
  }
 },
 "nbformat": 4,
 "nbformat_minor": 0
}
